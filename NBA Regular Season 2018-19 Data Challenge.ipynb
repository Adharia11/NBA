{
 "cells": [
  {
   "cell_type": "markdown",
   "metadata": {},
   "source": [
    "# Nba Regular Season 2018-19 Data Challenge\n",
    "\n",
    "Your task will be to take the dataset given, and create an analysis answering the following 10 questions. This project will again test your knowledge of pandas in order to find the answers needed given the data you are presented with."
   ]
  },
  {
   "cell_type": "markdown",
   "metadata": {},
   "source": [
    "# What was the average age of player in the league?"
   ]
  },
  {
   "cell_type": "code",
   "execution_count": 2,
   "metadata": {},
   "outputs": [
    {
     "name": "stdout",
     "output_type": "stream",
     "text": [
      "<class 'pandas.core.frame.DataFrame'>\n",
      "RangeIndex: 521 entries, 0 to 520\n",
      "Data columns (total 27 columns):\n",
      " #   Column    Non-Null Count  Dtype  \n",
      "---  ------    --------------  -----  \n",
      " 0   Name      521 non-null    object \n",
      " 1   Height    521 non-null    int64  \n",
      " 2   Weight    521 non-null    int64  \n",
      " 3   Team      470 non-null    object \n",
      " 4   Age       521 non-null    int64  \n",
      " 5   Salary    521 non-null    object \n",
      " 6   Points    521 non-null    float64\n",
      " 7   Blocks    521 non-null    float64\n",
      " 8   Steals    521 non-null    float64\n",
      " 9   Assists   521 non-null    float64\n",
      " 10  Rebounds  521 non-null    float64\n",
      " 11  FT%       499 non-null    float64\n",
      " 12  FTA       521 non-null    float64\n",
      " 13  FG3%      489 non-null    float64\n",
      " 14  FG3A      521 non-null    float64\n",
      " 15  FG%       519 non-null    float64\n",
      " 16  FGA       521 non-null    float64\n",
      " 17  MP        521 non-null    float64\n",
      " 18  G         521 non-null    int64  \n",
      " 19  PER       521 non-null    float64\n",
      " 20  OWS       521 non-null    float64\n",
      " 21  DWS       521 non-null    float64\n",
      " 22  WS        521 non-null    float64\n",
      " 23  WS48      521 non-null    float64\n",
      " 24  USG       521 non-null    float64\n",
      " 25  BPM       521 non-null    float64\n",
      " 26  VORP      521 non-null    float64\n",
      "dtypes: float64(20), int64(4), object(3)\n",
      "memory usage: 110.0+ KB\n",
      "None\n",
      "Average age of players in the NBA (2018-2019 season): 25.90\n"
     ]
    }
   ],
   "source": [
    "import pandas as pd\n",
    "\n",
    "df = pd.read_csv(\"nbastats2018-2019 - nbastats2018-2019.csv\")\n",
    "\n",
    "print(df.info())\n",
    "\n",
    "average_age = df[\"Age\"].mean()\n",
    "print(\"Average age of players in the NBA (2018-2019 season): {:.2f}\".format(average_age))\n",
    "\n"
   ]
  },
  {
   "cell_type": "markdown",
   "metadata": {},
   "source": [
    "# What player scored the most points?"
   ]
  },
  {
   "cell_type": "code",
   "execution_count": 7,
   "metadata": {},
   "outputs": [
    {
     "name": "stdout",
     "output_type": "stream",
     "text": [
      "The player who scored the most points is: James Harden with 36.1 points.\n"
     ]
    }
   ],
   "source": [
    "player_points = df.groupby('Name')['Points'].sum()\n",
    "\n",
    "player_with_most_points = player_points.idxmax()\n",
    "most_points_scored = player_points.max()\n",
    "\n",
    "print(f\"The player who scored the most points is: {player_with_most_points} with {most_points_scored} points.\")\n"
   ]
  },
  {
   "cell_type": "markdown",
   "metadata": {},
   "source": [
    "# What player had the most blocks during the season? Was it a post player (F/C)?"
   ]
  },
  {
   "cell_type": "code",
   "execution_count": 11,
   "metadata": {},
   "outputs": [
    {
     "name": "stdout",
     "output_type": "stream",
     "text": [
      "             Name  Blocks\n",
      "476  Myles Turner     2.7\n"
     ]
    }
   ],
   "source": [
    "blocks_df = df[['Name', 'Blocks']]\n",
    "\n",
    "most_blocks_player = blocks_df[blocks_df['Blocks'] == blocks_df['Blocks'].max()]\n",
    "print(most_blocks_player)\n",
    "\n"
   ]
  },
  {
   "cell_type": "markdown",
   "metadata": {},
   "source": [
    "# Based on the regular season, who had the best chance to win a title given their win percentage?"
   ]
  },
  {
   "cell_type": "code",
   "execution_count": 3,
   "metadata": {},
   "outputs": [
    {
     "name": "stdout",
     "output_type": "stream",
     "text": [
      "Team with the best chance to win the title:\n",
      "236    NaN\n",
      "Name: Team, dtype: object\n"
     ]
    }
   ],
   "source": [
    "df['Win_Percentage'] = df['Points'] / df['G']\n",
    "\n",
    "\n",
    "best_team = df[df[\"Win_Percentage\"] == df[\"Win_Percentage\"].max()]\n",
    "\n",
    "\n",
    "print(\"Team with the best chance to win the title:\")\n",
    "print(best_team['Team'])\n"
   ]
  },
  {
   "cell_type": "markdown",
   "metadata": {},
   "source": [
    "# What player had the best 3-pt percentage? "
   ]
  },
  {
   "cell_type": "code",
   "execution_count": 4,
   "metadata": {},
   "outputs": [
    {
     "name": "stdout",
     "output_type": "stream",
     "text": [
      "Player with the best 3-pt percentage: Willie Cauley-Stein\n"
     ]
    }
   ],
   "source": [
    "df[\"3P_Percentage\"] = df[\"FG3%\"] / df[\"FG3A\"]\n",
    "best_3pt_player = df.loc[df[\"3P_Percentage\"].idxmax(), \"Name\"]\n",
    "\n",
    "print(\"Player with the best 3-pt percentage:\", best_3pt_player)"
   ]
  },
  {
   "cell_type": "markdown",
   "metadata": {},
   "source": [
    "# Who played the most minutes during the season"
   ]
  },
  {
   "cell_type": "code",
   "execution_count": 42,
   "metadata": {},
   "outputs": [
    {
     "name": "stdout",
     "output_type": "stream",
     "text": [
      "The player who played the most minutes during the season is Bradley Beal with 36.9 minutes.\n"
     ]
    }
   ],
   "source": [
    "\n",
    "minutes_played_by_player = df.groupby('Name')['MP'].sum()\n",
    "\n",
    "\n",
    "most_minutes_player = minutes_played_by_player.idxmax()\n",
    "\n",
    "\n",
    "most_minutes_played = minutes_played_by_player.max()\n",
    "\n",
    "print(f\"The player who played the most minutes during the season is {most_minutes_player} with {most_minutes_played} minutes.\")\n"
   ]
  },
  {
   "cell_type": "markdown",
   "metadata": {},
   "source": [
    "# What player given their player effiecency rating was the clutchest during the season?"
   ]
  },
  {
   "cell_type": "code",
   "execution_count": 18,
   "metadata": {},
   "outputs": [
    {
     "data": {
      "text/html": [
       "<div>\n",
       "<style scoped>\n",
       "    .dataframe tbody tr th:only-of-type {\n",
       "        vertical-align: middle;\n",
       "    }\n",
       "\n",
       "    .dataframe tbody tr th {\n",
       "        vertical-align: top;\n",
       "    }\n",
       "\n",
       "    .dataframe thead th {\n",
       "        text-align: right;\n",
       "    }\n",
       "</style>\n",
       "<table border=\"1\" class=\"dataframe\">\n",
       "  <thead>\n",
       "    <tr style=\"text-align: right;\">\n",
       "      <th></th>\n",
       "      <th>Name</th>\n",
       "      <th>Team</th>\n",
       "      <th>PER</th>\n",
       "      <th>Points</th>\n",
       "      <th>Rebounds</th>\n",
       "      <th>Assists</th>\n",
       "    </tr>\n",
       "  </thead>\n",
       "  <tbody>\n",
       "    <tr>\n",
       "      <th>194</th>\n",
       "      <td>Draymond Green</td>\n",
       "      <td>Golden State Warriors</td>\n",
       "      <td>3.2</td>\n",
       "      <td>7.4</td>\n",
       "      <td>7.3</td>\n",
       "      <td>6.9</td>\n",
       "    </tr>\n",
       "  </tbody>\n",
       "</table>\n",
       "</div>"
      ],
      "text/plain": [
       "               Name                   Team  PER  Points  Rebounds  Assists\n",
       "194  Draymond Green  Golden State Warriors  3.2     7.4       7.3      6.9"
      ]
     },
     "execution_count": 18,
     "metadata": {},
     "output_type": "execute_result"
    }
   ],
   "source": [
    "Clutchest = df[df.G >= 45]\n",
    "NBA_Clutch = Clutchest.sort_values('PER', ascending = False, kind = 'mergesort')\n",
    "Top_Clutch = NBA_Clutch.head(1)[['Name', 'Team', 'PER', 'Points', 'Rebounds', 'Assists']]\n",
    "Top_Clutch"
   ]
  },
  {
   "cell_type": "markdown",
   "metadata": {},
   "source": [
    "# What team had the youngest roster?"
   ]
  },
  {
   "cell_type": "code",
   "execution_count": 9,
   "metadata": {},
   "outputs": [
    {
     "name": "stdout",
     "output_type": "stream",
     "text": [
      "The team with the youngest roster in the 2018-2019 NBA regular season was: Chicago Bulls\n"
     ]
    }
   ],
   "source": [
    "team_avg_age = df.groupby('Team')['Age'].mean()\n",
    "youngest_team = team_avg_age.idxmin()\n",
    "\n",
    "print(f\"The team with the youngest roster in the 2018-2019 NBA regular season was: {youngest_team}\")"
   ]
  },
  {
   "cell_type": "markdown",
   "metadata": {},
   "source": [
    "# Who is the highest paid player during the seasion?"
   ]
  },
  {
   "cell_type": "code",
   "execution_count": 14,
   "metadata": {},
   "outputs": [
    {
     "name": "stdout",
     "output_type": "stream",
     "text": [
      "The highest-paid player during the NBA Regular Season 2018-2019 was: John Jenkins\n"
     ]
    }
   ],
   "source": [
    "df_sorted = df.sort_values(by='Salary', ascending=False)\n",
    "\n",
    "highest_paid_player = df_sorted.iloc[0]['Name']\n",
    "\n",
    "print(\"The highest-paid player during the NBA Regular Season 2018-2019 was:\", highest_paid_player)"
   ]
  },
  {
   "cell_type": "markdown",
   "metadata": {},
   "source": [
    "# At the end of a game, who WOULDN'T you want on the Free Throw Line?"
   ]
  },
  {
   "cell_type": "code",
   "execution_count": 17,
   "metadata": {},
   "outputs": [
    {
     "name": "stdout",
     "output_type": "stream",
     "text": [
      "At the end of a game, you wouldn't want Naz Mitrou-Long on the Free Throw Line.\n"
     ]
    }
   ],
   "source": [
    "free_throw_data = df[['Name', 'FTA']]\n",
    "\n",
    "free_throw_data = free_throw_data[free_throw_data['FTA'] > 0]\n",
    "\n",
    "free_throw_data['FT%'] = (free_throw_data['FTA']) * 100\n",
    "\n",
    "free_throw_data.sort_values(by='FT%', ascending=True, inplace=True)\n",
    "\n",
    "worst_free_throw_shooter = free_throw_data.iloc[0]['Name']\n",
    "\n",
    "print(f\"At the end of a game, you wouldn't want {worst_free_throw_shooter} on the Free Throw Line.\")"
   ]
  },
  {
   "cell_type": "code",
   "execution_count": null,
   "metadata": {},
   "outputs": [],
   "source": []
  }
 ],
 "metadata": {
  "kernelspec": {
   "display_name": "Python 3 (ipykernel)",
   "language": "python",
   "name": "python3"
  },
  "language_info": {
   "codemirror_mode": {
    "name": "ipython",
    "version": 3
   },
   "file_extension": ".py",
   "mimetype": "text/x-python",
   "name": "python",
   "nbconvert_exporter": "python",
   "pygments_lexer": "ipython3",
   "version": "3.9.13"
  }
 },
 "nbformat": 4,
 "nbformat_minor": 2
}
